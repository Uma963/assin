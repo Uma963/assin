{
  "nbformat": 4,
  "nbformat_minor": 0,
  "metadata": {
    "colab": {
      "provenance": []
    },
    "kernelspec": {
      "name": "python3",
      "display_name": "Python 3"
    },
    "language_info": {
      "name": "python"
    }
  },
  "cells": [
    {
      "cell_type": "code",
      "execution_count": 1,
      "metadata": {
        "colab": {
          "base_uri": "https://localhost:8080/"
        },
        "collapsed": true,
        "id": "heDCm05Auln0",
        "outputId": "94f3ab79-3e47-451a-96a9-c5429b327734"
      },
      "outputs": [
        {
          "output_type": "stream",
          "name": "stdout",
          "text": [
            "apple\n",
            "banana\n",
            "cherry\n",
            "1\n",
            "2\n",
            "3\n",
            "4\n",
            "5\n"
          ]
        }
      ],
      "source": [
        "# Q1. Explanation of for loop and while loop\n",
        "\n",
        "# For Loop: Used when you know the number of iterations in advance\n",
        "moterbike = [\"classic\", \"raider\", \"splendor\"]\n",
        "for moterbike in bike:\n",
        "    print(moterbike)\n",
        "\n",
        "# While Loop: Used when you don't know the number of iterations in advance\n",
        "num = 1\n",
        "while num <= 5:\n",
        "    print(num)\n",
        "    num += 1\n"
      ]
    },
    {
      "cell_type": "code",
      "source": [
        "# Q2. Sum and product of first 10 natural numbers using for loop\n",
        "sum_for = 0\n",
        "product_for = 1\n",
        "for i in range(1, 11):\n",
        "    sum_for += i\n",
        "    product_for *= i\n",
        "\n",
        "print(\"Sum using for loop:\", sum_for)\n",
        "print(\"Product using for loop:\", product_for)\n"
      ],
      "metadata": {
        "colab": {
          "base_uri": "https://localhost:8080/"
        },
        "id": "BH6TPiGCup_0",
        "outputId": "3ec33cc4-2ec1-4e27-993e-ff50f51ead8d"
      },
      "execution_count": 2,
      "outputs": [
        {
          "output_type": "stream",
          "name": "stdout",
          "text": [
            "Sum using for loop: 55\n",
            "Product using for loop: 3628800\n"
          ]
        }
      ]
    },
    {
      "cell_type": "code",
      "source": [
        "# Q3. Electricity bill calculation\n",
        "def calculate_electricity_bill(units):\n",
        "    if units <= 100:\n",
        "        bill = units * 4.5\n",
        "    elif units <= 200:\n",
        "        bill = (100 * 4.5) + ((units - 100) * 6)\n",
        "    elif units <= 300:\n",
        "        bill = (100 * 4.5) + (100 * 6) + ((units - 200) * 10)\n",
        "    else:\n",
        "        bill = (100 * 4.5) + (100 * 6) + (100 * 10) + ((units - 300) * 20)\n",
        "\n",
        "    return bill\n",
        "\n",
        "# Take user input for the number of units consumed\n",
        "units_consumed = int(input(\"Enter the units of electricity consumed: \"))\n",
        "bill = calculate_electricity_bill(units_consumed)\n",
        "print(\"Your electricity bill is: Rs.\", bill)\n"
      ],
      "metadata": {
        "id": "TirADNnVu286"
      },
      "execution_count": null,
      "outputs": []
    },
    {
      "cell_type": "code",
      "source": [
        "# Q4. Cube of numbers divisible by 4 or 5 using for loop\n",
        "result_for = []\n",
        "for num in range(1, 101):\n",
        "    cube = num ** 3\n",
        "    if cube % 4 == 0 or cube % 5 == 0:\n",
        "        result_for.append(num)\n",
        "\n",
        "print(\"Numbers whose cubes are divisible by 4 or 5 (using for loop):\", result_for)\n"
      ],
      "metadata": {
        "id": "xOXpnLXyvFu4"
      },
      "execution_count": null,
      "outputs": []
    },
    {
      "cell_type": "code",
      "source": [
        "# Q5. Count vowels in a string\n",
        "string = \"I want to become a data scientist\"\n",
        "\n",
        "def count_vowels(input_string):\n",
        "    vowels = \"AEIOUaeiou\"\n",
        "    count = 0\n",
        "    for char in input_string:\n",
        "        if char in vowels:\n",
        "            count += 1\n",
        "    return count\n",
        "\n",
        "vowel_count = count_vowels(string)\n",
        "print(\"Number of vowels in the string:\", vowel_count)\n"
      ],
      "metadata": {
        "id": "dNAeQUWlvNjE"
      },
      "execution_count": null,
      "outputs": []
    }
  ]
}